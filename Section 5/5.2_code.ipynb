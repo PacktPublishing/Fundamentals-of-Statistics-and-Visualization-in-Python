{
 "cells": [
  {
   "cell_type": "markdown",
   "metadata": {},
   "source": [
    "## How to Perform Statistical Hypothesis Testing"
   ]
  },
  {
   "cell_type": "markdown",
   "metadata": {},
   "source": [
    "### Hypothesis Testing"
   ]
  },
  {
   "cell_type": "markdown",
   "metadata": {},
   "source": [
    "In general, hypothesis testing provides evidence about the plausibility of a hypothesis, given the data.  With statistical (frequentist) inference, there is a population parameter that is unknowable. You will collect data and come up with a sample parameter (coefficent estimate), say a mean, that is used as a proxy for the population parameter, given a normal distribution. What you are doing is estimating the best parameter as you can with your sample data.  Frequentist view probability as a long-run limiting frequency. \n",
    "\n",
    "For Bayesian inference, you use the probability of the hypothesis, given the data. Bayesians view probability as a \"degree of belief\".  There exists a distribution of parameters that can be updated with data.  With more data, you will have greater certainty."
   ]
  },
  {
   "cell_type": "markdown",
   "metadata": {},
   "source": [
    "### Frequentist Inference"
   ]
  },
  {
   "cell_type": "markdown",
   "metadata": {},
   "source": [
    "In frequentist inference, the focus is on the sampling of data many times.  Probability is considered to be the proportion of times an event would happen if repeated many times.  As you get bigger data, you will gain better estimates and you will have a better level of precision.\n",
    "\n",
    "In frequentist inference, you condition on some unknown truth, and find the probability of the data, given this unknown truth. You would take a look at the p-value, which is the p(positive mammogram test if no breast cancer), which is 0.096.  In other words, the probability of getting a positive mammogram just by random chance, if the woman does not have cancer is 9.6%."
   ]
  },
  {
   "cell_type": "markdown",
   "metadata": {},
   "source": [
    "Null hypothesis H0:  no breast cancer\n",
    "\n",
    "Alternative hypothesis H1 : breast cancer\n",
    "\n",
    "p-value = P(statistic as extreme as observed if null hypothesis, H0: no cancer, is true)\n",
    "\n",
    "A p-value is the proportion of times you would get results as extreme as those observed, if the null hypothesis were true.\n",
    "\n",
    "A confidence interval is created to capture the truth for a specified porportion of all samples.\n",
    "\n",
    "In Frequentist inference, the parameter (coefficients of variables) is considered fixed and the sample statistic is random."
   ]
  },
  {
   "cell_type": "markdown",
   "metadata": {},
   "source": [
    "### Bayesian Inference"
   ]
  },
  {
   "cell_type": "markdown",
   "metadata": {},
   "source": [
    "For Bayesian Inference, they approach it differently by asking what is the probability of something being true conditional on the data that is observed. Rather than focus on a level of precision or a point estimate, the focus is on obtaining a probability. A key part is updating your prior beliefs as you obtain more data. "
   ]
  },
  {
   "cell_type": "markdown",
   "metadata": {},
   "source": [
    "### Bayes Theorem   \n",
    "\n",
    "P(A|B) =  P(B|A)*P(A) / P(B)\n",
    "\n",
    "P(truth if data) = P(data if truth)*(P(truth))/P(data)"
   ]
  },
  {
   "cell_type": "markdown",
   "metadata": {},
   "source": [
    "You need some prior belief for the probabilty of truth. A prior probability is a statement of being true, before you look at your data. 1% of women at age 40 who participate in a routine screening have breast cancer.  The posterior probability, which is what you are interested in calculating, is the probability of being true, after updating the prior probability based on the data. The posterior probability is the probability of having breast cancer, given a positive mammogram test. You are trying to reason from observations to causes."
   ]
  },
  {
   "cell_type": "markdown",
   "metadata": {},
   "source": [
    "Null hypothesis H0:  no breast cancer\n",
    "\n",
    "Alternative hypothesis HA : breast cancer\n",
    "    \n",
    "P(null hypothesis H0 is true given the data we observe)  \n",
    "\n",
    "In the previous example, you calculated the probability that a woman has breast cancer, given her positive mammography test, which was 7.8%.\n",
    "\n",
    "In Bayesian inference, the statistic is considered fixed and the parameter (coefficients of variables) is considered random."
   ]
  },
  {
   "cell_type": "code",
   "execution_count": 4,
   "metadata": {},
   "outputs": [],
   "source": [
    "# end"
   ]
  }
 ],
 "metadata": {
  "kernelspec": {
   "display_name": "Python 3",
   "language": "python",
   "name": "python3"
  },
  "language_info": {
   "codemirror_mode": {
    "name": "ipython",
    "version": 3
   },
   "file_extension": ".py",
   "mimetype": "text/x-python",
   "name": "python",
   "nbconvert_exporter": "python",
   "pygments_lexer": "ipython3",
   "version": "3.7.4"
  }
 },
 "nbformat": 4,
 "nbformat_minor": 2
}
