{
 "cells": [
  {
   "cell_type": "markdown",
   "metadata": {},
   "source": [
    "## Understanding Bayes Theorem"
   ]
  },
  {
   "cell_type": "markdown",
   "metadata": {},
   "source": [
    "### Bayes Theorem:       P(A|B) =  P(B|A)*P(A) / P(B)\n",
    "\n",
    "Prior: P(A)\n",
    "\n",
    "Likelihood: P(B|A)\n",
    "\n",
    "Posterior:  P(A|B)\n",
    "\n",
    "Evidence (data): P(B)"
   ]
  },
  {
   "cell_type": "markdown",
   "metadata": {},
   "source": [
    "The focus on Bayes Theorem is to calculate a probability. Bayes Theorem requires a prior assumption (information or knowledge), evidence reflected in the world.  This is before seeing any evidence.  The likelihood is the plausibility that our data is observed, given our prior. The posterior is the result of the Bayesian analysis, given the data and model. This can cycle through again as you update your beliefs again. "
   ]
  },
  {
   "cell_type": "markdown",
   "metadata": {},
   "source": [
    " ### A Classic Example"
   ]
  },
  {
   "cell_type": "markdown",
   "metadata": {},
   "source": [
    "Here is a classic example:\n",
    "\n",
    "1% of women at age 40 who participate in a routine screening have breast cancer.\n",
    "80% of women with breast cancer get positive mammographies.\n",
    "9.6% of women without breast cancer get positive mammographies.\n",
    "\n",
    "A 40-year old woman participates in a routine screening and has a positive mammography.  What's the probability that she has breast cancer?"
   ]
  },
  {
   "cell_type": "markdown",
   "metadata": {},
   "source": [
    "Let's use a population of 10,000 women."
   ]
  },
  {
   "cell_type": "code",
   "execution_count": 1,
   "metadata": {},
   "outputs": [
    {
     "data": {
      "text/plain": [
       "100.0"
      ]
     },
     "execution_count": 1,
     "metadata": {},
     "output_type": "execute_result"
    }
   ],
   "source": [
    "# Out of 10,000 women who go to a routine screening, 1% will have breast cancer.\n",
    "with_cancer = 0.01*10000\n",
    "with_cancer"
   ]
  },
  {
   "cell_type": "markdown",
   "metadata": {},
   "source": [
    "Here, it is important to note that the prior probability that a woman has breast cancer is 1%. This is even before getting a positive result from a mammography test. P(A) = 0.01\n",
    "\n",
    "What is the probability of having breast cancer, given a positive test?\n",
    "\n",
    "Bayes Theorem:       P(A|B) =  P(B|A)*P(A) / P(B)"
   ]
  },
  {
   "cell_type": "code",
   "execution_count": 2,
   "metadata": {},
   "outputs": [
    {
     "data": {
      "text/plain": [
       "80.0"
      ]
     },
     "execution_count": 2,
     "metadata": {},
     "output_type": "execute_result"
    }
   ],
   "source": [
    "# 80% of women who have breast cancer have positive mammography test.\n",
    "# 80% of women who have breat cancer are correctly diagnosed by the test.\n",
    "# This is the likelihood, P(B|A). \n",
    "true_positive = 0.80 *100\n",
    "true_positive\n",
    "# 80 women have a true positive result"
   ]
  },
  {
   "cell_type": "code",
   "execution_count": 3,
   "metadata": {},
   "outputs": [
    {
     "data": {
      "text/plain": [
       "20.0"
      ]
     },
     "execution_count": 3,
     "metadata": {},
     "output_type": "execute_result"
    }
   ],
   "source": [
    "# We can deduce that 20% of women who have breast cancer have false mammgraphy test.\n",
    "# The test said that they have breast cancer but, in fact, they did not.\n",
    "false_negative = 0.20*100\n",
    "false_negative\n",
    "# 20 women have a false negative."
   ]
  },
  {
   "cell_type": "code",
   "execution_count": 4,
   "metadata": {},
   "outputs": [
    {
     "data": {
      "text/plain": [
       "9900.0"
      ]
     },
     "execution_count": 4,
     "metadata": {},
     "output_type": "execute_result"
    }
   ],
   "source": [
    "# We can deduce that at age 40, 99% of the 10,000 women who go to a routine \n",
    "# screening do not have breast cancer.\n",
    "\n",
    "without_cancer = 0.99*10000\n",
    "without_cancer\n",
    "#9900 women do not have breast cancer"
   ]
  },
  {
   "cell_type": "code",
   "execution_count": 5,
   "metadata": {},
   "outputs": [
    {
     "data": {
      "text/plain": [
       "950.4"
      ]
     },
     "execution_count": 5,
     "metadata": {},
     "output_type": "execute_result"
    }
   ],
   "source": [
    "# We know that 9.6% of women without breast cancer get a positive mammography.\n",
    "false_positive = 0.096*9900\n",
    "false_positive\n",
    "#950 have a false_positive result"
   ]
  },
  {
   "cell_type": "code",
   "execution_count": 6,
   "metadata": {},
   "outputs": [
    {
     "data": {
      "text/plain": [
       "8949.6"
      ]
     },
     "execution_count": 6,
     "metadata": {},
     "output_type": "execute_result"
    }
   ],
   "source": [
    "# We can deduce that 90.4% of women without breast cancer get a negative mammmography.\n",
    "true_negative = 0.904 *9900\n",
    "true_negative\n",
    "# 8949.6 have a true_negative result"
   ]
  },
  {
   "cell_type": "markdown",
   "metadata": {},
   "source": [
    "What is the probability of having breast cancer, given a positive test?\n",
    "\n",
    "Bayes Theorem:       P(A|B) =  P(B|A)*P(A) / P(B)"
   ]
  },
  {
   "cell_type": "code",
   "execution_count": 7,
   "metadata": {},
   "outputs": [
    {
     "data": {
      "text/plain": [
       "1030.4"
      ]
     },
     "execution_count": 7,
     "metadata": {},
     "output_type": "execute_result"
    }
   ],
   "source": [
    "# P(positive) = P(positive, with cancer) + P (positive and no cancer)\n",
    "# This is P(B), the evidence or data that we use to update the prior\n",
    "probability_positive = (true_positive + false_positive)\n",
    "probability_positive"
   ]
  },
  {
   "cell_type": "code",
   "execution_count": 8,
   "metadata": {},
   "outputs": [
    {
     "data": {
      "text/plain": [
       "0.10304"
      ]
     },
     "execution_count": 8,
     "metadata": {},
     "output_type": "execute_result"
    }
   ],
   "source": [
    "# Calculate proportion of positives \n",
    "1030.4/10000"
   ]
  },
  {
   "cell_type": "code",
   "execution_count": 9,
   "metadata": {},
   "outputs": [
    {
     "data": {
      "text/plain": [
       "80.0"
      ]
     },
     "execution_count": 9,
     "metadata": {},
     "output_type": "execute_result"
    }
   ],
   "source": [
    "# Recall how many women have true positive result\n",
    "true_positive"
   ]
  },
  {
   "cell_type": "code",
   "execution_count": 10,
   "metadata": {},
   "outputs": [],
   "source": [
    "# Recall true positive proportion is 0.80"
   ]
  },
  {
   "cell_type": "code",
   "execution_count": 11,
   "metadata": {},
   "outputs": [
    {
     "data": {
      "text/plain": [
       "0.07763975155279502"
      ]
     },
     "execution_count": 11,
     "metadata": {},
     "output_type": "execute_result"
    }
   ],
   "source": [
    "# Posterior Probability, P(A|B)\n",
    "# posterior_probability = true_positive/(true_positive + false_positive)\n",
    "\n",
    "posterior_probability = true_positive/probability_positive\n",
    "posterior_probability"
   ]
  },
  {
   "cell_type": "markdown",
   "metadata": {},
   "source": [
    "### Summary of Calculations"
   ]
  },
  {
   "cell_type": "markdown",
   "metadata": {},
   "source": [
    "What's the probability that a woman has breast cancer, given that she tested positive for a mammogram test?\n",
    "\n",
    "Bayes Theorem  P(A|B) = (P(B|A)* P(A)) / P(B) = (0.80*0.01)/0.10304\n",
    " \n",
    "\n",
    "P(A) is called the prior is 0.01\n",
    "\n",
    "\n",
    "P(B|A) is the  likelihood is 0.80. \n",
    "\n",
    "P(B) is the evidence (data) that we use to update the prior is 0.10304.\n",
    "\n",
    "P(A|B) is called the posterior is 0.077639.  \n",
    "\n",
    "The probability that a woman has breast cancer, given a positive mammography test is 7.8%."
   ]
  },
  {
   "cell_type": "code",
   "execution_count": null,
   "metadata": {},
   "outputs": [],
   "source": [
    "# end"
   ]
  }
 ],
 "metadata": {
  "kernelspec": {
   "display_name": "Python 3",
   "language": "python",
   "name": "python3"
  },
  "language_info": {
   "codemirror_mode": {
    "name": "ipython",
    "version": 3
   },
   "file_extension": ".py",
   "mimetype": "text/x-python",
   "name": "python",
   "nbconvert_exporter": "python",
   "pygments_lexer": "ipython3",
   "version": "3.7.4"
  }
 },
 "nbformat": 4,
 "nbformat_minor": 2
}
