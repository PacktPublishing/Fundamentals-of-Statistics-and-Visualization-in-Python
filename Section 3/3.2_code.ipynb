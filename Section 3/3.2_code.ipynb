{
 "cells": [
  {
   "cell_type": "markdown",
   "metadata": {},
   "source": [
    "## Multivariate Linear Regression"
   ]
  },
  {
   "cell_type": "markdown",
   "metadata": {},
   "source": [
    "We will look at a multivariate linear relationship where we have two explanatory variables and an outcome variable.  We want to estimate the best fitting line for our data.  Again, we want to ask ourselves:  is x1 and x2 useful predictors for y?"
   ]
  },
  {
   "cell_type": "code",
   "execution_count": 1,
   "metadata": {},
   "outputs": [],
   "source": [
    "import pandas as pd\n",
    "import numpy as np\n",
    "import statsmodels.api as sm"
   ]
  },
  {
   "cell_type": "code",
   "execution_count": 2,
   "metadata": {},
   "outputs": [
    {
     "data": {
      "text/html": [
       "<div>\n",
       "<style scoped>\n",
       "    .dataframe tbody tr th:only-of-type {\n",
       "        vertical-align: middle;\n",
       "    }\n",
       "\n",
       "    .dataframe tbody tr th {\n",
       "        vertical-align: top;\n",
       "    }\n",
       "\n",
       "    .dataframe thead th {\n",
       "        text-align: right;\n",
       "    }\n",
       "</style>\n",
       "<table border=\"1\" class=\"dataframe\">\n",
       "  <thead>\n",
       "    <tr style=\"text-align: right;\">\n",
       "      <th></th>\n",
       "      <th>diet</th>\n",
       "      <th>activity</th>\n",
       "      <th>health_score</th>\n",
       "    </tr>\n",
       "  </thead>\n",
       "  <tbody>\n",
       "    <tr>\n",
       "      <td>0</td>\n",
       "      <td>15</td>\n",
       "      <td>11</td>\n",
       "      <td>10</td>\n",
       "    </tr>\n",
       "    <tr>\n",
       "      <td>1</td>\n",
       "      <td>150</td>\n",
       "      <td>79</td>\n",
       "      <td>96</td>\n",
       "    </tr>\n",
       "    <tr>\n",
       "      <td>2</td>\n",
       "      <td>55</td>\n",
       "      <td>39</td>\n",
       "      <td>37</td>\n",
       "    </tr>\n",
       "    <tr>\n",
       "      <td>3</td>\n",
       "      <td>52</td>\n",
       "      <td>33</td>\n",
       "      <td>35</td>\n",
       "    </tr>\n",
       "    <tr>\n",
       "      <td>4</td>\n",
       "      <td>4</td>\n",
       "      <td>1</td>\n",
       "      <td>4</td>\n",
       "    </tr>\n",
       "  </tbody>\n",
       "</table>\n",
       "</div>"
      ],
      "text/plain": [
       "   diet  activity  health_score\n",
       "0    15        11            10\n",
       "1   150        79            96\n",
       "2    55        39            37\n",
       "3    52        33            35\n",
       "4     4         1             4"
      ]
     },
     "execution_count": 2,
     "metadata": {},
     "output_type": "execute_result"
    }
   ],
   "source": [
    "df1 = pd.read_csv('diet.csv')\n",
    "df1.head()"
   ]
  },
  {
   "cell_type": "code",
   "execution_count": 3,
   "metadata": {
    "scrolled": true
   },
   "outputs": [
    {
     "data": {
      "text/html": [
       "<div>\n",
       "<style scoped>\n",
       "    .dataframe tbody tr th:only-of-type {\n",
       "        vertical-align: middle;\n",
       "    }\n",
       "\n",
       "    .dataframe tbody tr th {\n",
       "        vertical-align: top;\n",
       "    }\n",
       "\n",
       "    .dataframe thead th {\n",
       "        text-align: right;\n",
       "    }\n",
       "</style>\n",
       "<table border=\"1\" class=\"dataframe\">\n",
       "  <thead>\n",
       "    <tr style=\"text-align: right;\">\n",
       "      <th></th>\n",
       "      <th>diet</th>\n",
       "      <th>activity</th>\n",
       "      <th>health_score</th>\n",
       "    </tr>\n",
       "  </thead>\n",
       "  <tbody>\n",
       "    <tr>\n",
       "      <td>count</td>\n",
       "      <td>50.000000</td>\n",
       "      <td>50.000000</td>\n",
       "      <td>50.000000</td>\n",
       "    </tr>\n",
       "    <tr>\n",
       "      <td>mean</td>\n",
       "      <td>78.040000</td>\n",
       "      <td>42.660000</td>\n",
       "      <td>51.220000</td>\n",
       "    </tr>\n",
       "    <tr>\n",
       "      <td>std</td>\n",
       "      <td>44.903507</td>\n",
       "      <td>24.668918</td>\n",
       "      <td>30.064753</td>\n",
       "    </tr>\n",
       "    <tr>\n",
       "      <td>min</td>\n",
       "      <td>0.000000</td>\n",
       "      <td>0.000000</td>\n",
       "      <td>0.000000</td>\n",
       "    </tr>\n",
       "    <tr>\n",
       "      <td>25%</td>\n",
       "      <td>42.000000</td>\n",
       "      <td>24.750000</td>\n",
       "      <td>28.000000</td>\n",
       "    </tr>\n",
       "    <tr>\n",
       "      <td>50%</td>\n",
       "      <td>78.000000</td>\n",
       "      <td>44.500000</td>\n",
       "      <td>46.000000</td>\n",
       "    </tr>\n",
       "    <tr>\n",
       "      <td>75%</td>\n",
       "      <td>115.750000</td>\n",
       "      <td>61.000000</td>\n",
       "      <td>77.750000</td>\n",
       "    </tr>\n",
       "    <tr>\n",
       "      <td>max</td>\n",
       "      <td>150.000000</td>\n",
       "      <td>84.000000</td>\n",
       "      <td>98.000000</td>\n",
       "    </tr>\n",
       "  </tbody>\n",
       "</table>\n",
       "</div>"
      ],
      "text/plain": [
       "             diet   activity  health_score\n",
       "count   50.000000  50.000000     50.000000\n",
       "mean    78.040000  42.660000     51.220000\n",
       "std     44.903507  24.668918     30.064753\n",
       "min      0.000000   0.000000      0.000000\n",
       "25%     42.000000  24.750000     28.000000\n",
       "50%     78.000000  44.500000     46.000000\n",
       "75%    115.750000  61.000000     77.750000\n",
       "max    150.000000  84.000000     98.000000"
      ]
     },
     "execution_count": 3,
     "metadata": {},
     "output_type": "execute_result"
    }
   ],
   "source": [
    "df1.describe()"
   ]
  },
  {
   "cell_type": "markdown",
   "metadata": {},
   "source": [
    "We want to estimate a multivariate model that has two explanatory variables, namely number of hours of physical activity (ranges from 0 to 84) and number of servings of fruits and vegetables (ranges from 0 to 150). We want to know if these two variables are useful in predicting a person's health score (ranges from 0 to 100 with 0 being worst health and 100 being excellent health).  Number of hours of physical activity in a week consists of exercise, housework, physical activity on the job, walking, and etc. The diet variable reflects number of servings of fruits and vegetables in a week. All three variables are quantitative variables."
   ]
  },
  {
   "cell_type": "markdown",
   "metadata": {},
   "source": [
    "### Multivariate Linear Regression Model"
   ]
  },
  {
   "cell_type": "markdown",
   "metadata": {},
   "source": [
    "Linear Regression Equation:    y_pred = b0 + b1x1 + b2x2"
   ]
  },
  {
   "cell_type": "markdown",
   "metadata": {},
   "source": [
    "Null hypothesis H0:   no effect, b1=0, b2=0\n",
    "    \n",
    "Alternative hypothesis H1: effect exists, coefficients are not zero\n",
    "\n",
    "b1 is not equal to 0\n",
    "\n",
    "b2 is not equal to 0"
   ]
  },
  {
   "cell_type": "code",
   "execution_count": 4,
   "metadata": {},
   "outputs": [
    {
     "data": {
      "text/html": [
       "<table class=\"simpletable\">\n",
       "<caption>OLS Regression Results</caption>\n",
       "<tr>\n",
       "  <th>Dep. Variable:</th>      <td>health_score</td>   <th>  R-squared:         </th> <td>   0.961</td>\n",
       "</tr>\n",
       "<tr>\n",
       "  <th>Model:</th>                   <td>OLS</td>       <th>  Adj. R-squared:    </th> <td>   0.959</td>\n",
       "</tr>\n",
       "<tr>\n",
       "  <th>Method:</th>             <td>Least Squares</td>  <th>  F-statistic:       </th> <td>   580.6</td>\n",
       "</tr>\n",
       "<tr>\n",
       "  <th>Date:</th>             <td>Sun, 16 Feb 2020</td> <th>  Prob (F-statistic):</th> <td>7.31e-34</td>\n",
       "</tr>\n",
       "<tr>\n",
       "  <th>Time:</th>                 <td>10:58:47</td>     <th>  Log-Likelihood:    </th> <td> -159.44</td>\n",
       "</tr>\n",
       "<tr>\n",
       "  <th>No. Observations:</th>      <td>    50</td>      <th>  AIC:               </th> <td>   324.9</td>\n",
       "</tr>\n",
       "<tr>\n",
       "  <th>Df Residuals:</th>          <td>    47</td>      <th>  BIC:               </th> <td>   330.6</td>\n",
       "</tr>\n",
       "<tr>\n",
       "  <th>Df Model:</th>              <td>     2</td>      <th>                     </th>     <td> </td>   \n",
       "</tr>\n",
       "<tr>\n",
       "  <th>Covariance Type:</th>      <td>nonrobust</td>    <th>                     </th>     <td> </td>   \n",
       "</tr>\n",
       "</table>\n",
       "<table class=\"simpletable\">\n",
       "<tr>\n",
       "      <td></td>         <th>coef</th>     <th>std err</th>      <th>t</th>      <th>P>|t|</th>  <th>[0.025</th>    <th>0.975]</th>  \n",
       "</tr>\n",
       "<tr>\n",
       "  <th>Intercept</th> <td>   -1.0673</td> <td>    1.762</td> <td>   -0.606</td> <td> 0.548</td> <td>   -4.613</td> <td>    2.478</td>\n",
       "</tr>\n",
       "<tr>\n",
       "  <th>activity</th>  <td>    0.8170</td> <td>    0.079</td> <td>   10.395</td> <td> 0.000</td> <td>    0.659</td> <td>    0.975</td>\n",
       "</tr>\n",
       "<tr>\n",
       "  <th>diet</th>      <td>    0.2234</td> <td>    0.043</td> <td>    5.174</td> <td> 0.000</td> <td>    0.137</td> <td>    0.310</td>\n",
       "</tr>\n",
       "</table>\n",
       "<table class=\"simpletable\">\n",
       "<tr>\n",
       "  <th>Omnibus:</th>       <td>13.781</td> <th>  Durbin-Watson:     </th> <td>   2.128</td>\n",
       "</tr>\n",
       "<tr>\n",
       "  <th>Prob(Omnibus):</th> <td> 0.001</td> <th>  Jarque-Bera (JB):  </th> <td>  20.217</td>\n",
       "</tr>\n",
       "<tr>\n",
       "  <th>Skew:</th>          <td> 0.862</td> <th>  Prob(JB):          </th> <td>4.07e-05</td>\n",
       "</tr>\n",
       "<tr>\n",
       "  <th>Kurtosis:</th>      <td> 5.594</td> <th>  Cond. No.          </th> <td>    210.</td>\n",
       "</tr>\n",
       "</table><br/><br/>Warnings:<br/>[1] Standard Errors assume that the covariance matrix of the errors is correctly specified."
      ],
      "text/plain": [
       "<class 'statsmodels.iolib.summary.Summary'>\n",
       "\"\"\"\n",
       "                            OLS Regression Results                            \n",
       "==============================================================================\n",
       "Dep. Variable:           health_score   R-squared:                       0.961\n",
       "Model:                            OLS   Adj. R-squared:                  0.959\n",
       "Method:                 Least Squares   F-statistic:                     580.6\n",
       "Date:                Sun, 16 Feb 2020   Prob (F-statistic):           7.31e-34\n",
       "Time:                        10:58:47   Log-Likelihood:                -159.44\n",
       "No. Observations:                  50   AIC:                             324.9\n",
       "Df Residuals:                      47   BIC:                             330.6\n",
       "Df Model:                           2                                         \n",
       "Covariance Type:            nonrobust                                         \n",
       "==============================================================================\n",
       "                 coef    std err          t      P>|t|      [0.025      0.975]\n",
       "------------------------------------------------------------------------------\n",
       "Intercept     -1.0673      1.762     -0.606      0.548      -4.613       2.478\n",
       "activity       0.8170      0.079     10.395      0.000       0.659       0.975\n",
       "diet           0.2234      0.043      5.174      0.000       0.137       0.310\n",
       "==============================================================================\n",
       "Omnibus:                       13.781   Durbin-Watson:                   2.128\n",
       "Prob(Omnibus):                  0.001   Jarque-Bera (JB):               20.217\n",
       "Skew:                           0.862   Prob(JB):                     4.07e-05\n",
       "Kurtosis:                       5.594   Cond. No.                         210.\n",
       "==============================================================================\n",
       "\n",
       "Warnings:\n",
       "[1] Standard Errors assume that the covariance matrix of the errors is correctly specified.\n",
       "\"\"\""
      ]
     },
     "execution_count": 4,
     "metadata": {},
     "output_type": "execute_result"
    }
   ],
   "source": [
    "# Multivariate Linear Regression\n",
    "model = sm.OLS.from_formula(\"health_score ~ activity + diet\", data=df1)\n",
    "result = model.fit()\n",
    "result.summary()"
   ]
  },
  {
   "cell_type": "markdown",
   "metadata": {},
   "source": [
    "### Interpretations  and Predictions"
   ]
  },
  {
   "cell_type": "markdown",
   "metadata": {},
   "source": [
    "Adjusted R-Squared:  A measure of model fit.  It ranges from 0 ot 1 where 1 means a better fit. It's 0.96.\n",
    "\n",
    "Constant Coefficient:  This is your y-intercept when your input variable coefficients for x1 and x2 are zero.  The expected output Y would be equal to the constant. Health score is 9.42 when both diet and activity are zero.\n",
    "\n",
    "x1 Coefficient:  It is the change in the output Y for a change of one unit in the variable x1. For an hour increase in activity, there is a 0.82 change in health score.  \n",
    "\n",
    "x2 Coefficient:  It is the change in the output Y for a change of one unit in the variable x2. For a unit change in diet, which reflects an increase of 1 serving of vegetables or fruit, there is a 0.22 change in health score.\n",
    "\n",
    "Standard error:  It's a measure of the accuracy of the coefficients.  It tells you how far away the estimated slope is from the true population slope, on average.  The lower it is, then the higher level of accuracy. \n",
    "\n",
    "P-value:  When you have a p-value of less than 0.05, then it is considered to be statistically significant. Both p-values are 0.000, which is under the 0.05 threshold.  We can reject the null hypothesis if the p-values are less than 0.05 threshold, which is at the 95% confidence level.\n",
    "\n",
    "Confidence Interval:  It's the range in which coefficients are likely to fall(with a likelihood of 95%). This is where the true population estimate is likely to fall, given normality."
   ]
  },
  {
   "cell_type": "markdown",
   "metadata": {},
   "source": [
    "Linear Regression Equation:    y_pred = b0 + b1x1 + b2x2"
   ]
  },
  {
   "cell_type": "code",
   "execution_count": 6,
   "metadata": {},
   "outputs": [],
   "source": [
    "constant = -1.0673\n",
    "b1 = 0.8170  # activity\n",
    "b2 = 0.2234  # diet"
   ]
  },
  {
   "cell_type": "code",
   "execution_count": 7,
   "metadata": {},
   "outputs": [
    {
     "data": {
      "text/plain": [
       "48.3677"
      ]
     },
     "execution_count": 7,
     "metadata": {},
     "output_type": "execute_result"
    }
   ],
   "source": [
    "# Predict health score, given activity = 40 and diet = 75\n",
    "y_pred1 = constant + b1*(40) + b2*(75)\n",
    "y_pred1"
   ]
  },
  {
   "cell_type": "code",
   "execution_count": 8,
   "metadata": {},
   "outputs": [
    {
     "data": {
      "text/plain": [
       "23.3151"
      ]
     },
     "execution_count": 8,
     "metadata": {},
     "output_type": "execute_result"
    }
   ],
   "source": [
    "y_pred2 = constant + b1*(20) + b2*(36)\n",
    "y_pred2"
   ]
  },
  {
   "cell_type": "code",
   "execution_count": 9,
   "metadata": {},
   "outputs": [
    {
     "data": {
      "text/plain": [
       "97.80269999999999"
      ]
     },
     "execution_count": 9,
     "metadata": {},
     "output_type": "execute_result"
    }
   ],
   "source": [
    "y_pred3 = constant + b1*(80) + b2*(150)\n",
    "y_pred3"
   ]
  },
  {
   "cell_type": "markdown",
   "metadata": {},
   "source": [
    "### Residuals"
   ]
  },
  {
   "cell_type": "markdown",
   "metadata": {},
   "source": [
    "The residual errors are the difference between the observed y and the predicted y values.  It is the vertical distance from the data point to the regression line. Your errors should be random and normally distributed around zero.  Errors should have constant variance such that it is not related to your x variable."
   ]
  },
  {
   "cell_type": "code",
   "execution_count": 11,
   "metadata": {},
   "outputs": [
    {
     "data": {
      "text/plain": [
       "Text(0, 0.5, 'Residuals')"
      ]
     },
     "execution_count": 11,
     "metadata": {},
     "output_type": "execute_result"
    },
    {
     "data": {
      "image/png": "[encoded data removed]",
      "text/plain": [
       "<Figure size 432x288 with 1 Axes>"
      ]
     },
     "metadata": {
      "needs_background": "light"
     },
     "output_type": "display_data"
    }
   ],
   "source": [
    "# Let's take a look at the residual values againsted the predicted values\n",
    "# plot of residuals on fitted values \n",
    "import seaborn as sns\n",
    "pp = sns.scatterplot(result.fittedvalues, result.resid)\n",
    "pp.set_xlabel(\"Fitted values\")\n",
    "pp.set_ylabel(\"Residuals\")"
   ]
  },
  {
   "cell_type": "code",
   "execution_count": 12,
   "metadata": {},
   "outputs": [
    {
     "data": {
      "text/plain": [
       "-1.7834622667578513e-14"
      ]
     },
     "execution_count": 12,
     "metadata": {},
     "output_type": "execute_result"
    }
   ],
   "source": [
    "result.resid.mean()"
   ]
  },
  {
   "cell_type": "code",
   "execution_count": 13,
   "metadata": {},
   "outputs": [
    {
     "data": {
      "image/png": "[encoded data removed]",
      "text/plain": [
       "<Figure size 432x288 with 1 Axes>"
      ]
     },
     "metadata": {
      "needs_background": "light"
     },
     "output_type": "display_data"
    }
   ],
   "source": [
    "# Partial residual plot, holding one variable constant\n",
    "# How is activity and health score related, holding diet constant?\n",
    "\n",
    "from statsmodels.graphics.regressionplots import plot_ccpr\n",
    "import matplotlib.pyplot as plot\n",
    "ax = plot.axes()\n",
    "plot_ccpr(result, \"activity\", ax)\n",
    "ax.lines[1].set_color('red')"
   ]
  },
  {
   "cell_type": "code",
   "execution_count": 14,
   "metadata": {},
   "outputs": [
    {
     "data": {
      "image/png": "[encoded data removed]",
      "text/plain": [
       "<Figure size 432x288 with 1 Axes>"
      ]
     },
     "metadata": {
      "needs_background": "light"
     },
     "output_type": "display_data"
    }
   ],
   "source": [
    "# Partial residual plot, holding one variable constant\n",
    "# How is diet and health score related, holding activity constant?\n",
    "# This is not part of the main Statsmodels API, so needs to be imported separately\n",
    "from statsmodels.graphics.regressionplots import plot_ccpr\n",
    "import matplotlib.pyplot as plot\n",
    "\n",
    "ax = plot.axes()\n",
    "plot_ccpr(result, \"diet\", ax)\n",
    "ax.lines[1].set_color('red')"
   ]
  },
  {
   "cell_type": "markdown",
   "metadata": {},
   "source": [
    "The inference drawn is that both activity and diet are statistically significant in predicting health score.  The relationship for both variables are positive, though the size of the coefficient effects are small, 0.82 and 0.22.  Overall, the model explains 0.96 of the variation. The results are statistically significant, despite small effect sizes."
   ]
  },
  {
   "cell_type": "code",
   "execution_count": null,
   "metadata": {},
   "outputs": [],
   "source": [
    "# end"
   ]
  }
 ],
 "metadata": {
  "kernelspec": {
   "display_name": "Python 3",
   "language": "python",
   "name": "python3"
  },
  "language_info": {
   "codemirror_mode": {
    "name": "ipython",
    "version": 3
   },
   "file_extension": ".py",
   "mimetype": "text/x-python",
   "name": "python",
   "nbconvert_exporter": "python",
   "pygments_lexer": "ipython3",
   "version": "3.7.4"
  }
 },
 "nbformat": 4,
 "nbformat_minor": 2
}
