{
 "cells": [
  {
   "cell_type": "markdown",
   "metadata": {},
   "source": [
    "## Working with Summary Statistics"
   ]
  },
  {
   "cell_type": "code",
   "execution_count": 1,
   "metadata": {},
   "outputs": [],
   "source": [
    "import pandas as pd"
   ]
  },
  {
   "cell_type": "code",
   "execution_count": 2,
   "metadata": {},
   "outputs": [
    {
     "data": {
      "text/html": [
       "<div>\n",
       "<style scoped>\n",
       "    .dataframe tbody tr th:only-of-type {\n",
       "        vertical-align: middle;\n",
       "    }\n",
       "\n",
       "    .dataframe tbody tr th {\n",
       "        vertical-align: top;\n",
       "    }\n",
       "\n",
       "    .dataframe thead th {\n",
       "        text-align: right;\n",
       "    }\n",
       "</style>\n",
       "<table border=\"1\" class=\"dataframe\">\n",
       "  <thead>\n",
       "    <tr style=\"text-align: right;\">\n",
       "      <th></th>\n",
       "      <th>Month</th>\n",
       "      <th>Golf</th>\n",
       "      <th>Soccer</th>\n",
       "      <th>Tennis</th>\n",
       "      <th>Hockey</th>\n",
       "      <th>Baseball</th>\n",
       "    </tr>\n",
       "  </thead>\n",
       "  <tbody>\n",
       "    <tr>\n",
       "      <td>0</td>\n",
       "      <td>2004-01</td>\n",
       "      <td>45</td>\n",
       "      <td>21</td>\n",
       "      <td>13</td>\n",
       "      <td>22</td>\n",
       "      <td>24</td>\n",
       "    </tr>\n",
       "    <tr>\n",
       "      <td>1</td>\n",
       "      <td>2004-02</td>\n",
       "      <td>50</td>\n",
       "      <td>24</td>\n",
       "      <td>13</td>\n",
       "      <td>23</td>\n",
       "      <td>32</td>\n",
       "    </tr>\n",
       "    <tr>\n",
       "      <td>2</td>\n",
       "      <td>2004-03</td>\n",
       "      <td>63</td>\n",
       "      <td>27</td>\n",
       "      <td>15</td>\n",
       "      <td>23</td>\n",
       "      <td>45</td>\n",
       "    </tr>\n",
       "    <tr>\n",
       "      <td>3</td>\n",
       "      <td>2004-04</td>\n",
       "      <td>80</td>\n",
       "      <td>29</td>\n",
       "      <td>16</td>\n",
       "      <td>16</td>\n",
       "      <td>53</td>\n",
       "    </tr>\n",
       "    <tr>\n",
       "      <td>4</td>\n",
       "      <td>2004-05</td>\n",
       "      <td>82</td>\n",
       "      <td>31</td>\n",
       "      <td>17</td>\n",
       "      <td>14</td>\n",
       "      <td>52</td>\n",
       "    </tr>\n",
       "  </tbody>\n",
       "</table>\n",
       "</div>"
      ],
      "text/plain": [
       "     Month  Golf  Soccer  Tennis  Hockey  Baseball\n",
       "0  2004-01    45      21      13      22        24\n",
       "1  2004-02    50      24      13      23        32\n",
       "2  2004-03    63      27      15      23        45\n",
       "3  2004-04    80      29      16      16        53\n",
       "4  2004-05    82      31      17      14        52"
      ]
     },
     "execution_count": 2,
     "metadata": {},
     "output_type": "execute_result"
    }
   ],
   "source": [
    "# Read in file\n",
    "\n",
    "sports = pd.read_csv(\"sports.csv\", skiprows=2)\n",
    "\n",
    "# Reset column names\n",
    "col_names = ['Month', 'Golf', 'Soccer', 'Tennis', 'Hockey', 'Baseball']\n",
    "sports.columns = col_names\n",
    "\n",
    "sports.head()"
   ]
  },
  {
   "cell_type": "code",
   "execution_count": 3,
   "metadata": {},
   "outputs": [],
   "source": [
    "# Set index\n",
    "sports.set_index('Month', inplace=True)"
   ]
  },
  {
   "cell_type": "code",
   "execution_count": 4,
   "metadata": {},
   "outputs": [
    {
     "data": {
      "text/plain": [
       "(191, 5)"
      ]
     },
     "execution_count": 4,
     "metadata": {},
     "output_type": "execute_result"
    }
   ],
   "source": [
    "# Gives you the rows and columns\n",
    "sports.shape"
   ]
  },
  {
   "cell_type": "code",
   "execution_count": 5,
   "metadata": {},
   "outputs": [
    {
     "data": {
      "text/html": [
       "<div>\n",
       "<style scoped>\n",
       "    .dataframe tbody tr th:only-of-type {\n",
       "        vertical-align: middle;\n",
       "    }\n",
       "\n",
       "    .dataframe tbody tr th {\n",
       "        vertical-align: top;\n",
       "    }\n",
       "\n",
       "    .dataframe thead th {\n",
       "        text-align: right;\n",
       "    }\n",
       "</style>\n",
       "<table border=\"1\" class=\"dataframe\">\n",
       "  <thead>\n",
       "    <tr style=\"text-align: right;\">\n",
       "      <th></th>\n",
       "      <th>Golf</th>\n",
       "      <th>Soccer</th>\n",
       "      <th>Tennis</th>\n",
       "      <th>Hockey</th>\n",
       "      <th>Baseball</th>\n",
       "    </tr>\n",
       "  </thead>\n",
       "  <tbody>\n",
       "    <tr>\n",
       "      <td>count</td>\n",
       "      <td>191.000000</td>\n",
       "      <td>191.000000</td>\n",
       "      <td>191.000000</td>\n",
       "      <td>191.000000</td>\n",
       "      <td>191.000000</td>\n",
       "    </tr>\n",
       "    <tr>\n",
       "      <td>mean</td>\n",
       "      <td>49.387435</td>\n",
       "      <td>28.853403</td>\n",
       "      <td>13.502618</td>\n",
       "      <td>14.879581</td>\n",
       "      <td>34.183246</td>\n",
       "    </tr>\n",
       "    <tr>\n",
       "      <td>std</td>\n",
       "      <td>18.247326</td>\n",
       "      <td>8.682073</td>\n",
       "      <td>4.067683</td>\n",
       "      <td>5.916182</td>\n",
       "      <td>14.037279</td>\n",
       "    </tr>\n",
       "    <tr>\n",
       "      <td>min</td>\n",
       "      <td>23.000000</td>\n",
       "      <td>17.000000</td>\n",
       "      <td>7.000000</td>\n",
       "      <td>6.000000</td>\n",
       "      <td>13.000000</td>\n",
       "    </tr>\n",
       "    <tr>\n",
       "      <td>25%</td>\n",
       "      <td>34.000000</td>\n",
       "      <td>24.000000</td>\n",
       "      <td>11.000000</td>\n",
       "      <td>11.000000</td>\n",
       "      <td>23.500000</td>\n",
       "    </tr>\n",
       "    <tr>\n",
       "      <td>50%</td>\n",
       "      <td>48.000000</td>\n",
       "      <td>28.000000</td>\n",
       "      <td>13.000000</td>\n",
       "      <td>15.000000</td>\n",
       "      <td>30.000000</td>\n",
       "    </tr>\n",
       "    <tr>\n",
       "      <td>75%</td>\n",
       "      <td>59.000000</td>\n",
       "      <td>32.000000</td>\n",
       "      <td>16.000000</td>\n",
       "      <td>18.000000</td>\n",
       "      <td>48.500000</td>\n",
       "    </tr>\n",
       "    <tr>\n",
       "      <td>max</td>\n",
       "      <td>100.000000</td>\n",
       "      <td>84.000000</td>\n",
       "      <td>26.000000</td>\n",
       "      <td>55.000000</td>\n",
       "      <td>61.000000</td>\n",
       "    </tr>\n",
       "  </tbody>\n",
       "</table>\n",
       "</div>"
      ],
      "text/plain": [
       "             Golf      Soccer      Tennis      Hockey    Baseball\n",
       "count  191.000000  191.000000  191.000000  191.000000  191.000000\n",
       "mean    49.387435   28.853403   13.502618   14.879581   34.183246\n",
       "std     18.247326    8.682073    4.067683    5.916182   14.037279\n",
       "min     23.000000   17.000000    7.000000    6.000000   13.000000\n",
       "25%     34.000000   24.000000   11.000000   11.000000   23.500000\n",
       "50%     48.000000   28.000000   13.000000   15.000000   30.000000\n",
       "75%     59.000000   32.000000   16.000000   18.000000   48.500000\n",
       "max    100.000000   84.000000   26.000000   55.000000   61.000000"
      ]
     },
     "execution_count": 5,
     "metadata": {},
     "output_type": "execute_result"
    }
   ],
   "source": [
    "# Obtain the descriptive (summary) statistics\n",
    "sports.describe()"
   ]
  },
  {
   "cell_type": "code",
   "execution_count": 6,
   "metadata": {},
   "outputs": [
    {
     "data": {
      "text/html": [
       "<div>\n",
       "<style scoped>\n",
       "    .dataframe tbody tr th:only-of-type {\n",
       "        vertical-align: middle;\n",
       "    }\n",
       "\n",
       "    .dataframe tbody tr th {\n",
       "        vertical-align: top;\n",
       "    }\n",
       "\n",
       "    .dataframe thead th {\n",
       "        text-align: right;\n",
       "    }\n",
       "</style>\n",
       "<table border=\"1\" class=\"dataframe\">\n",
       "  <thead>\n",
       "    <tr style=\"text-align: right;\">\n",
       "      <th></th>\n",
       "      <th>count</th>\n",
       "      <th>mean</th>\n",
       "      <th>std</th>\n",
       "      <th>min</th>\n",
       "      <th>25%</th>\n",
       "      <th>50%</th>\n",
       "      <th>75%</th>\n",
       "      <th>max</th>\n",
       "    </tr>\n",
       "  </thead>\n",
       "  <tbody>\n",
       "    <tr>\n",
       "      <td>Golf</td>\n",
       "      <td>191.0</td>\n",
       "      <td>49.387435</td>\n",
       "      <td>18.247326</td>\n",
       "      <td>23.0</td>\n",
       "      <td>34.0</td>\n",
       "      <td>48.0</td>\n",
       "      <td>59.0</td>\n",
       "      <td>100.0</td>\n",
       "    </tr>\n",
       "    <tr>\n",
       "      <td>Soccer</td>\n",
       "      <td>191.0</td>\n",
       "      <td>28.853403</td>\n",
       "      <td>8.682073</td>\n",
       "      <td>17.0</td>\n",
       "      <td>24.0</td>\n",
       "      <td>28.0</td>\n",
       "      <td>32.0</td>\n",
       "      <td>84.0</td>\n",
       "    </tr>\n",
       "    <tr>\n",
       "      <td>Tennis</td>\n",
       "      <td>191.0</td>\n",
       "      <td>13.502618</td>\n",
       "      <td>4.067683</td>\n",
       "      <td>7.0</td>\n",
       "      <td>11.0</td>\n",
       "      <td>13.0</td>\n",
       "      <td>16.0</td>\n",
       "      <td>26.0</td>\n",
       "    </tr>\n",
       "    <tr>\n",
       "      <td>Hockey</td>\n",
       "      <td>191.0</td>\n",
       "      <td>14.879581</td>\n",
       "      <td>5.916182</td>\n",
       "      <td>6.0</td>\n",
       "      <td>11.0</td>\n",
       "      <td>15.0</td>\n",
       "      <td>18.0</td>\n",
       "      <td>55.0</td>\n",
       "    </tr>\n",
       "    <tr>\n",
       "      <td>Baseball</td>\n",
       "      <td>191.0</td>\n",
       "      <td>34.183246</td>\n",
       "      <td>14.037279</td>\n",
       "      <td>13.0</td>\n",
       "      <td>23.5</td>\n",
       "      <td>30.0</td>\n",
       "      <td>48.5</td>\n",
       "      <td>61.0</td>\n",
       "    </tr>\n",
       "  </tbody>\n",
       "</table>\n",
       "</div>"
      ],
      "text/plain": [
       "          count       mean        std   min   25%   50%   75%    max\n",
       "Golf      191.0  49.387435  18.247326  23.0  34.0  48.0  59.0  100.0\n",
       "Soccer    191.0  28.853403   8.682073  17.0  24.0  28.0  32.0   84.0\n",
       "Tennis    191.0  13.502618   4.067683   7.0  11.0  13.0  16.0   26.0\n",
       "Hockey    191.0  14.879581   5.916182   6.0  11.0  15.0  18.0   55.0\n",
       "Baseball  191.0  34.183246  14.037279  13.0  23.5  30.0  48.5   61.0"
      ]
     },
     "execution_count": 6,
     "metadata": {},
     "output_type": "execute_result"
    }
   ],
   "source": [
    "# Transpose data to flip rows and columns\n",
    "sports.describe().T"
   ]
  },
  {
   "cell_type": "code",
   "execution_count": 7,
   "metadata": {},
   "outputs": [
    {
     "data": {
      "text/plain": [
       "array([ 45,  50,  63,  80,  82, 100,  94,  85,  65,  42,  44,  61,  98,\n",
       "        95,  86,  51,  43,  48,  57,  78,  76,  91,  88,  49,  41,  40,\n",
       "        46,  56,  71,  77,  87,  62,  36,  39,  52,  68,  69,  90,  66,\n",
       "        31,  33,  64,  74,  37,  32,  30,  58,  34,  27,  26,  35,  29,\n",
       "        47,  75,  54,  55,  25,  53,  23,  59,  24,  28])"
      ]
     },
     "execution_count": 7,
     "metadata": {},
     "output_type": "execute_result"
    }
   ],
   "source": [
    "# Give you the unique values, excludes NaNs\n",
    "sports['Golf'].unique()"
   ]
  },
  {
   "cell_type": "code",
   "execution_count": 8,
   "metadata": {},
   "outputs": [
    {
     "data": {
      "text/plain": [
       "Golf        23\n",
       "Soccer      17\n",
       "Tennis       7\n",
       "Hockey       6\n",
       "Baseball    13\n",
       "dtype: int64"
      ]
     },
     "execution_count": 8,
     "metadata": {},
     "output_type": "execute_result"
    }
   ],
   "source": [
    "# Minimum values\n",
    "sports.min()"
   ]
  },
  {
   "cell_type": "code",
   "execution_count": 9,
   "metadata": {},
   "outputs": [
    {
     "data": {
      "text/plain": [
       "Golf        100\n",
       "Soccer       84\n",
       "Tennis       26\n",
       "Hockey       55\n",
       "Baseball     61\n",
       "dtype: int64"
      ]
     },
     "execution_count": 9,
     "metadata": {},
     "output_type": "execute_result"
    }
   ],
   "source": [
    "# Maximum values\n",
    "sports.max()"
   ]
  },
  {
   "cell_type": "markdown",
   "metadata": {},
   "source": [
    "### Measures of Central Tendency"
   ]
  },
  {
   "cell_type": "code",
   "execution_count": 10,
   "metadata": {},
   "outputs": [
    {
     "data": {
      "text/plain": [
       "Golf        49.387435\n",
       "Soccer      28.853403\n",
       "Tennis      13.502618\n",
       "Hockey      14.879581\n",
       "Baseball    34.183246\n",
       "dtype: float64"
      ]
     },
     "execution_count": 10,
     "metadata": {},
     "output_type": "execute_result"
    }
   ],
   "source": [
    "# Mean is the average value of the data set.  It represents the typical value.\n",
    "sports.mean()"
   ]
  },
  {
   "cell_type": "code",
   "execution_count": 11,
   "metadata": {},
   "outputs": [
    {
     "data": {
      "text/plain": [
       "Golf        48.0\n",
       "Soccer      28.0\n",
       "Tennis      13.0\n",
       "Hockey      15.0\n",
       "Baseball    30.0\n",
       "dtype: float64"
      ]
     },
     "execution_count": 11,
     "metadata": {},
     "output_type": "execute_result"
    }
   ],
   "source": [
    "# Median value is the middle value after you reorganize the data set in ascending order.\n",
    "# If there are an even number of observations, then we take the average of the 2 middle values.\n",
    "sports.median()"
   ]
  },
  {
   "cell_type": "code",
   "execution_count": 12,
   "metadata": {},
   "outputs": [
    {
     "data": {
      "text/plain": [
       "0    26\n",
       "dtype: int64"
      ]
     },
     "execution_count": 12,
     "metadata": {},
     "output_type": "execute_result"
    }
   ],
   "source": [
    "# Mode is defined as the value most frequent in our data\n",
    "# If a value appears repeatedly in the data, it will influence the average\n",
    "# towards that frequent value\n",
    "# Modal value is like a highly weighted contributing factor for the mean value\n",
    "sports['Golf'].mode()"
   ]
  },
  {
   "cell_type": "code",
   "execution_count": 13,
   "metadata": {},
   "outputs": [
    {
     "data": {
      "text/plain": [
       "0    12\n",
       "dtype: int64"
      ]
     },
     "execution_count": 13,
     "metadata": {},
     "output_type": "execute_result"
    }
   ],
   "source": [
    "sports['Tennis'].mode()"
   ]
  },
  {
   "cell_type": "markdown",
   "metadata": {},
   "source": [
    "### Ranges and Percentiles"
   ]
  },
  {
   "cell_type": "code",
   "execution_count": 14,
   "metadata": {},
   "outputs": [
    {
     "data": {
      "text/plain": [
       "Golf        77\n",
       "Soccer      67\n",
       "Tennis      19\n",
       "Hockey      49\n",
       "Baseball    48\n",
       "dtype: int64"
      ]
     },
     "execution_count": 14,
     "metadata": {},
     "output_type": "execute_result"
    }
   ],
   "source": [
    "# Range is one indicator of spread\n",
    "# To calculate range, you subtract the smallest value from the largest value\n",
    "range = sports.max() - sports.min()\n",
    "range"
   ]
  },
  {
   "cell_type": "code",
   "execution_count": 15,
   "metadata": {},
   "outputs": [
    {
     "data": {
      "text/html": [
       "<div>\n",
       "<style scoped>\n",
       "    .dataframe tbody tr th:only-of-type {\n",
       "        vertical-align: middle;\n",
       "    }\n",
       "\n",
       "    .dataframe tbody tr th {\n",
       "        vertical-align: top;\n",
       "    }\n",
       "\n",
       "    .dataframe thead th {\n",
       "        text-align: right;\n",
       "    }\n",
       "</style>\n",
       "<table border=\"1\" class=\"dataframe\">\n",
       "  <thead>\n",
       "    <tr style=\"text-align: right;\">\n",
       "      <th></th>\n",
       "      <th>Golf</th>\n",
       "      <th>Soccer</th>\n",
       "      <th>Tennis</th>\n",
       "      <th>Hockey</th>\n",
       "      <th>Baseball</th>\n",
       "    </tr>\n",
       "  </thead>\n",
       "  <tbody>\n",
       "    <tr>\n",
       "      <td>count</td>\n",
       "      <td>191.000000</td>\n",
       "      <td>191.000000</td>\n",
       "      <td>191.000000</td>\n",
       "      <td>191.000000</td>\n",
       "      <td>191.000000</td>\n",
       "    </tr>\n",
       "    <tr>\n",
       "      <td>mean</td>\n",
       "      <td>49.387435</td>\n",
       "      <td>28.853403</td>\n",
       "      <td>13.502618</td>\n",
       "      <td>14.879581</td>\n",
       "      <td>34.183246</td>\n",
       "    </tr>\n",
       "    <tr>\n",
       "      <td>std</td>\n",
       "      <td>18.247326</td>\n",
       "      <td>8.682073</td>\n",
       "      <td>4.067683</td>\n",
       "      <td>5.916182</td>\n",
       "      <td>14.037279</td>\n",
       "    </tr>\n",
       "    <tr>\n",
       "      <td>min</td>\n",
       "      <td>23.000000</td>\n",
       "      <td>17.000000</td>\n",
       "      <td>7.000000</td>\n",
       "      <td>6.000000</td>\n",
       "      <td>13.000000</td>\n",
       "    </tr>\n",
       "    <tr>\n",
       "      <td>10%</td>\n",
       "      <td>28.000000</td>\n",
       "      <td>20.000000</td>\n",
       "      <td>9.000000</td>\n",
       "      <td>9.000000</td>\n",
       "      <td>17.000000</td>\n",
       "    </tr>\n",
       "    <tr>\n",
       "      <td>25%</td>\n",
       "      <td>34.000000</td>\n",
       "      <td>24.000000</td>\n",
       "      <td>11.000000</td>\n",
       "      <td>11.000000</td>\n",
       "      <td>23.500000</td>\n",
       "    </tr>\n",
       "    <tr>\n",
       "      <td>50%</td>\n",
       "      <td>48.000000</td>\n",
       "      <td>28.000000</td>\n",
       "      <td>13.000000</td>\n",
       "      <td>15.000000</td>\n",
       "      <td>30.000000</td>\n",
       "    </tr>\n",
       "    <tr>\n",
       "      <td>75%</td>\n",
       "      <td>59.000000</td>\n",
       "      <td>32.000000</td>\n",
       "      <td>16.000000</td>\n",
       "      <td>18.000000</td>\n",
       "      <td>48.500000</td>\n",
       "    </tr>\n",
       "    <tr>\n",
       "      <td>90%</td>\n",
       "      <td>77.000000</td>\n",
       "      <td>36.000000</td>\n",
       "      <td>20.000000</td>\n",
       "      <td>20.000000</td>\n",
       "      <td>54.000000</td>\n",
       "    </tr>\n",
       "    <tr>\n",
       "      <td>max</td>\n",
       "      <td>100.000000</td>\n",
       "      <td>84.000000</td>\n",
       "      <td>26.000000</td>\n",
       "      <td>55.000000</td>\n",
       "      <td>61.000000</td>\n",
       "    </tr>\n",
       "  </tbody>\n",
       "</table>\n",
       "</div>"
      ],
      "text/plain": [
       "             Golf      Soccer      Tennis      Hockey    Baseball\n",
       "count  191.000000  191.000000  191.000000  191.000000  191.000000\n",
       "mean    49.387435   28.853403   13.502618   14.879581   34.183246\n",
       "std     18.247326    8.682073    4.067683    5.916182   14.037279\n",
       "min     23.000000   17.000000    7.000000    6.000000   13.000000\n",
       "10%     28.000000   20.000000    9.000000    9.000000   17.000000\n",
       "25%     34.000000   24.000000   11.000000   11.000000   23.500000\n",
       "50%     48.000000   28.000000   13.000000   15.000000   30.000000\n",
       "75%     59.000000   32.000000   16.000000   18.000000   48.500000\n",
       "90%     77.000000   36.000000   20.000000   20.000000   54.000000\n",
       "max    100.000000   84.000000   26.000000   55.000000   61.000000"
      ]
     },
     "execution_count": 15,
     "metadata": {},
     "output_type": "execute_result"
    }
   ],
   "source": [
    "# Percentile values in summary, include 10% and 90%\n",
    "sports.describe(percentiles=[.1, .25, .5, .75, .9])"
   ]
  },
  {
   "cell_type": "code",
   "execution_count": 16,
   "metadata": {},
   "outputs": [
    {
     "data": {
      "text/plain": [
       "25.0"
      ]
     },
     "execution_count": 16,
     "metadata": {},
     "output_type": "execute_result"
    }
   ],
   "source": [
    "from scipy.stats import iqr\n",
    "\n",
    "# Calculate Interquartile Range (IQR), 75% - 25%\n",
    "IQR = iqr(sports['Golf'])\n",
    "IQR"
   ]
  },
  {
   "cell_type": "markdown",
   "metadata": {},
   "source": [
    "### Measures of Spread"
   ]
  },
  {
   "cell_type": "code",
   "execution_count": 17,
   "metadata": {},
   "outputs": [
    {
     "data": {
      "text/plain": [
       "18.247325664605434"
      ]
     },
     "execution_count": 17,
     "metadata": {},
     "output_type": "execute_result"
    }
   ],
   "source": [
    "# Standard deviation tells you how much your data point deviates from the mean.\n",
    "# Standard deviation is a measure of spread. It has the same units as your data. \n",
    "# How to calculate standard deviation\n",
    "\n",
    "# step 1:  For each observations, subtract away the mean value\n",
    "diff = sports['Golf'] - sports['Golf'].mean()\n",
    "\n",
    "# step 2: Square each difference\n",
    "square_diff = diff**2\n",
    "\n",
    "# step 3: Sum up all of these squared differences\n",
    "sum_squared = square_diff.sum()\n",
    "\n",
    "# step 4: Divide sum by the total number of observations minus 1\n",
    "total_divided = sum_squared/(191 - 1)\n",
    "\n",
    "# step 5: Square root of the result\n",
    "squareroot_result = total_divided**0.5\n",
    "\n",
    "# standard deviation, units are the same as the original data\n",
    "squareroot_result"
   ]
  },
  {
   "cell_type": "code",
   "execution_count": 18,
   "metadata": {},
   "outputs": [
    {
     "name": "stdout",
     "output_type": "stream",
     "text": [
      "332.96489391016814\n"
     ]
    }
   ],
   "source": [
    "# Variance is a measure of spread, similar to standard deviation.\n",
    "# To calculate variance, take steps 1-4 from standard deviation\n",
    "# Units are interpreted in terms of squared units, which is not easy to understand or to interpret\n",
    "# How to calculate variance\n",
    "\n",
    "# step 1:  For each observations, subtract away the mean value\n",
    "diff = sports['Golf'] - sports['Golf'].mean()\n",
    "\n",
    "# step 2: Square each difference\n",
    "square_diff = diff**2\n",
    "\n",
    "# step 3: Sum up all of these squared differences\n",
    "sum_squared = square_diff.sum()\n",
    "\n",
    "# step 4: Divide sum by the total number of observations minus 1\n",
    "variance = sum_squared/(191 - 1)\n",
    "\n",
    "print(variance)"
   ]
  },
  {
   "cell_type": "code",
   "execution_count": null,
   "metadata": {},
   "outputs": [],
   "source": []
  },
  {
   "cell_type": "code",
   "execution_count": null,
   "metadata": {},
   "outputs": [],
   "source": [
    "# end"
   ]
  },
  {
   "cell_type": "code",
   "execution_count": null,
   "metadata": {},
   "outputs": [],
   "source": []
  }
 ],
 "metadata": {
  "kernelspec": {
   "display_name": "Python 3",
   "language": "python",
   "name": "python3"
  },
  "language_info": {
   "codemirror_mode": {
    "name": "ipython",
    "version": 3
   },
   "file_extension": ".py",
   "mimetype": "text/x-python",
   "name": "python",
   "nbconvert_exporter": "python",
   "pygments_lexer": "ipython3",
   "version": "3.7.4"
  }
 },
 "nbformat": 4,
 "nbformat_minor": 2
}
