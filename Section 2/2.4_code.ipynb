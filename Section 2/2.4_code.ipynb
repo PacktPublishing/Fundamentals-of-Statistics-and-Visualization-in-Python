{
 "cells": [
  {
   "cell_type": "markdown",
   "metadata": {},
   "source": [
    "# Confidence Intervals"
   ]
  },
  {
   "cell_type": "markdown",
   "metadata": {},
   "source": [
    "### Random Sampling"
   ]
  },
  {
   "cell_type": "markdown",
   "metadata": {},
   "source": [
    "In statistics, we work with a sample from a population as a means to make inference about a population. A confidence interval tells us a range of values where a particular population estimate of interest falls. It's a way to assess how accurate the true population estimate is likely to be. "
   ]
  },
  {
   "cell_type": "code",
   "execution_count": 1,
   "metadata": {},
   "outputs": [],
   "source": [
    "import random\n",
    "from random import normalvariate\n",
    "import numpy as np"
   ]
  },
  {
   "cell_type": "code",
   "execution_count": 2,
   "metadata": {},
   "outputs": [],
   "source": [
    "# mean\n",
    "mu = 0\n",
    "# standard deviation\n",
    "sigma = 1\n",
    "\n",
    "# Create a population of 10000 random numbers that are normally distributed\n",
    "Population = [random.normalvariate(mu, sigma) for x in range(10000)]\n"
   ]
  },
  {
   "cell_type": "code",
   "execution_count": 3,
   "metadata": {},
   "outputs": [
    {
     "data": {
      "text/plain": [
       "10000"
      ]
     },
     "execution_count": 3,
     "metadata": {},
     "output_type": "execute_result"
    }
   ],
   "source": [
    "len(Population)"
   ]
  },
  {
   "cell_type": "code",
   "execution_count": 4,
   "metadata": {},
   "outputs": [],
   "source": [
    "# sample 500 from population of 10000\n",
    "Sample1 = random.sample(Population, 500)\n",
    "Sample2 = random.sample(Population, 500)"
   ]
  },
  {
   "cell_type": "code",
   "execution_count": 5,
   "metadata": {},
   "outputs": [
    {
     "data": {
      "text/plain": [
       "0.02414110326839583"
      ]
     },
     "execution_count": 5,
     "metadata": {},
     "output_type": "execute_result"
    }
   ],
   "source": [
    "np.mean(Sample1)"
   ]
  },
  {
   "cell_type": "code",
   "execution_count": 6,
   "metadata": {},
   "outputs": [
    {
     "data": {
      "text/plain": [
       "1.0090352690075564"
      ]
     },
     "execution_count": 6,
     "metadata": {},
     "output_type": "execute_result"
    }
   ],
   "source": [
    "np.std(Sample1)"
   ]
  },
  {
   "cell_type": "code",
   "execution_count": 7,
   "metadata": {},
   "outputs": [
    {
     "data": {
      "text/plain": [
       "0.06085358659677049"
      ]
     },
     "execution_count": 7,
     "metadata": {},
     "output_type": "execute_result"
    }
   ],
   "source": [
    "np.mean(Sample2)"
   ]
  },
  {
   "cell_type": "code",
   "execution_count": 8,
   "metadata": {},
   "outputs": [
    {
     "data": {
      "text/plain": [
       "1.0022897009206457"
      ]
     },
     "execution_count": 8,
     "metadata": {},
     "output_type": "execute_result"
    }
   ],
   "source": [
    "np.std(Sample2)"
   ]
  },
  {
   "cell_type": "markdown",
   "metadata": {},
   "source": [
    "A sampling distribution is the distribution of all possible estimates that would arise from a hypothetical repeated sampling."
   ]
  },
  {
   "cell_type": "code",
   "execution_count": 9,
   "metadata": {},
   "outputs": [
    {
     "data": {
      "text/plain": [
       "0.003786394816383566"
      ]
     },
     "execution_count": 9,
     "metadata": {},
     "output_type": "execute_result"
    }
   ],
   "source": [
    "# Calculate the mean for 100 random samples.\n",
    "# Each sample pulls out 1000 observations from a Population of 10000.\n",
    "means = [np.mean(random.sample(Population, 1000)) for x in range(100)]\n",
    "\n",
    "np.mean(means)"
   ]
  },
  {
   "cell_type": "code",
   "execution_count": 10,
   "metadata": {},
   "outputs": [
    {
     "data": {
      "text/plain": [
       "1.0005541809053933"
      ]
     },
     "execution_count": 10,
     "metadata": {},
     "output_type": "execute_result"
    }
   ],
   "source": [
    "# Calculate the standard deviation for 100 random samples of 1000 from a Population of 10000.\n",
    "standarddevs = [np.std(random.sample(Population, 1000)) for x in range(100)]\n",
    "\n",
    "np.mean(standarddevs)"
   ]
  },
  {
   "cell_type": "code",
   "execution_count": 11,
   "metadata": {},
   "outputs": [],
   "source": [
    "# Normal Standard Distribution\n",
    "mu = 0\n",
    "sigma = 1\n",
    "Observations = [random.normalvariate(mu, sigma) for x in range(100000)]"
   ]
  },
  {
   "cell_type": "code",
   "execution_count": 13,
   "metadata": {},
   "outputs": [
    {
     "data": {
      "text/plain": [
       "<matplotlib.lines.Line2D at 0x1a17f4d690>"
      ]
     },
     "execution_count": 13,
     "metadata": {},
     "output_type": "execute_result"
    },
    {
     "data": {
      "image/png": "[encoded data removed]",
      "text/plain": [
       "<Figure size 432x288 with 1 Axes>"
      ]
     },
     "metadata": {
      "needs_background": "light"
     },
     "output_type": "display_data"
    }
   ],
   "source": [
    "import matplotlib.pyplot as plt\n",
    "import seaborn as sns\n",
    "\n",
    "sns.distplot(Observations)\n",
    "\n",
    "plt.axvline(np.mean(Observations) + np.std(Observations), color = \"purple\")\n",
    "plt.axvline(np.mean(Observations) - np.std(Observations), color = \"purple\")\n",
    "\n",
    "plt.axvline(np.mean(Observations) + (np.std(Observations) * 2), color = \"red\")\n",
    "plt.axvline(np.mean(Observations) - (np.std(Observations) * 2), color = \"red\")"
   ]
  },
  {
   "cell_type": "markdown",
   "metadata": {},
   "source": [
    "### Example of Confidence Intervals"
   ]
  },
  {
   "cell_type": "markdown",
   "metadata": {},
   "source": [
    "Say you have a target population of 10,000 people. You want to draw a sample size of 100 from the population. Of the 100 people that you surveyed, You found that 54 people said that they would go to their local city's zoo this year while 46 said that they would not."
   ]
  },
  {
   "cell_type": "code",
   "execution_count": 14,
   "metadata": {},
   "outputs": [],
   "source": [
    "N = 10000 # population size\n",
    "n = 100 # sample size\n",
    "p = 0.54  # 54% said that they would go to the zoo\n",
    "# 1-p = 0.46  # 46% said that they would not go"
   ]
  },
  {
   "cell_type": "markdown",
   "metadata": {},
   "source": [
    "If you did multiple samples, the sampling distribution will be normal (bell-shaped curve).  The mean of the sampling distribution will be the mean of the population distribution."
   ]
  },
  {
   "cell_type": "markdown",
   "metadata": {},
   "source": [
    "What is the probability that 0.54 is within 2 standard deviations of the mean? \n",
    "\n",
    "For normal distributions, approximately, 95% of the data is within 2 standard deviations. There is a 95% chance that our sample p is within 2 standard deviations.  There is a 95% probability that the true estimate p is within 2 standard deviations of the sample estimate p."
   ]
  },
  {
   "cell_type": "markdown",
   "metadata": {},
   "source": [
    "A key idea here is that if we don't have our true population p, then instead we can use the sample p."
   ]
  },
  {
   "cell_type": "code",
   "execution_count": 15,
   "metadata": {},
   "outputs": [
    {
     "data": {
      "text/plain": [
       "0.04983974317750845"
      ]
     },
     "execution_count": 15,
     "metadata": {},
     "output_type": "execute_result"
    }
   ],
   "source": [
    "# We will use sample p for our population p\n",
    "# calculate standard error \n",
    "se_sample = (p*(1-p)/n)**0.5\n",
    "se_sample"
   ]
  },
  {
   "cell_type": "markdown",
   "metadata": {},
   "source": [
    "You will have variation due to sampling due to difference in each sampling result.  A confidence interval tells you how accurate your estimate is likely to be. A confidence interval has a lower and upper bound that tells us where the population estimate falls. Similar samples will have low variation and will give you a smaller confidence interval.  A varied population will have high variation and will give you a larger confidence interval."
   ]
  },
  {
   "cell_type": "code",
   "execution_count": 16,
   "metadata": {},
   "outputs": [
    {
     "name": "stdout",
     "output_type": "stream",
     "text": [
      "0.44032051364498315\n",
      "0.6396794863550169\n"
     ]
    }
   ],
   "source": [
    "# lower bound confidence interval\n",
    "ci_lower = 0.54 - 2*(se_sample)\n",
    "print(ci_lower)\n",
    "\n",
    "# upper bound confidence interval\n",
    "ci_upper = 0.54 + 2*(se_sample)\n",
    "print(ci_upper)"
   ]
  },
  {
   "cell_type": "markdown",
   "metadata": {},
   "source": [
    "### Interpretation of Confidence Intervals"
   ]
  },
  {
   "cell_type": "markdown",
   "metadata": {},
   "source": [
    "Interpretation: with 95% confidence, between 0.44 and 0.64 of people will visit their local zoo."
   ]
  },
  {
   "cell_type": "code",
   "execution_count": 17,
   "metadata": {},
   "outputs": [
    {
     "data": {
      "text/plain": [
       "0.0996794863550169"
      ]
     },
     "execution_count": 17,
     "metadata": {},
     "output_type": "execute_result"
    }
   ],
   "source": [
    "# calculate margin of error, standard error\n",
    "margin_error = 2*se_sample\n",
    "margin_error"
   ]
  },
  {
   "cell_type": "markdown",
   "metadata": {},
   "source": [
    "With repeated sampling, the sampling distribution will show that the true population p will be contained in the interval.  We will get multiple intervals that include the true population p, 95% of the time. Now, if you were to increase your sample size n, your confidence interval range will narrow.  It will also lower your margin of error."
   ]
  },
  {
   "cell_type": "markdown",
   "metadata": {},
   "source": [
    "Confidence intervals tells you the boundary so that it gives you a way to quantify the uncertainty of an estimate.  It is the bounds on an estimate of a population parameter. A smaller confidence interval means your estimate is better (more precise) than a larger confidence interval."
   ]
  },
  {
   "cell_type": "code",
   "execution_count": 18,
   "metadata": {},
   "outputs": [
    {
     "name": "stdout",
     "output_type": "stream",
     "text": [
      "lower=0.780, upper=0.920\n"
     ]
    }
   ],
   "source": [
    "# Say you got 85 correct out of 100 and you have a 95% confidence interval\n",
    "\n",
    "from statsmodels.stats.proportion import proportion_confint\n",
    "\n",
    "lower, upper = proportion_confint(85, 100, 0.05)\n",
    "print('lower=%.3f, upper=%.3f' % (lower, upper))"
   ]
  },
  {
   "cell_type": "code",
   "execution_count": null,
   "metadata": {},
   "outputs": [],
   "source": [
    "# end"
   ]
  }
 ],
 "metadata": {
  "kernelspec": {
   "display_name": "Python 3",
   "language": "python",
   "name": "python3"
  },
  "language_info": {
   "codemirror_mode": {
    "name": "ipython",
    "version": 3
   },
   "file_extension": ".py",
   "mimetype": "text/x-python",
   "name": "python",
   "nbconvert_exporter": "python",
   "pygments_lexer": "ipython3",
   "version": "3.7.4"
  }
 },
 "nbformat": 4,
 "nbformat_minor": 2
}
